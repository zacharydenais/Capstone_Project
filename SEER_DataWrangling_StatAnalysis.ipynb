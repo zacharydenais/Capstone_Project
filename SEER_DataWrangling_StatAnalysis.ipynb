{
 "cells": [
  {
   "cell_type": "markdown",
   "id": "3c39bf9a",
   "metadata": {},
   "source": [
    "# SEER Project\n",
    "enter description here\n",
    "\n",
    "Data Wrangling\n",
    "\n",
    "Descriptive Analysis\n",
    "\n",
    "Statistical Analysis\n",
    "\n",
    "Machine Learning Model"
   ]
  },
  {
   "cell_type": "markdown",
   "id": "bf226a63",
   "metadata": {},
   "source": [
    "## Data Wrangling"
   ]
  },
  {
   "cell_type": "code",
   "execution_count": 3,
   "id": "3e00b493",
   "metadata": {},
   "outputs": [],
   "source": [
    "import pyspark\n",
    "from pyspark.sql import SparkSession\n",
    "\n",
    "spark = SparkSession.builder.getOrCreate()\n",
    "sc = spark.sparkContext\n",
    "\n",
    "sc.setLogLevel(\"ERROR\")"
   ]
  },
  {
   "cell_type": "code",
   "execution_count": 4,
   "id": "407cd6b1",
   "metadata": {},
   "outputs": [
    {
     "name": "stderr",
     "output_type": "stream",
     "text": [
      "/opt/anaconda3/envs/bmi6318/lib/python3.10/site-packages/pyspark/pandas/__init__.py:50: UserWarning: 'PYARROW_IGNORE_TIMEZONE' environment variable was not set. It is required to set this environment variable to '1' in both driver and executor sides if you use pyarrow>=2.0.0. pandas-on-Spark will set it for you but it does not work if there is a Spark context already launched.\n",
      "  warnings.warn(\n"
     ]
    }
   ],
   "source": [
    "#import necessary libraries\n",
    "from pyspark.sql import functions as F\n",
    "import pyspark.pandas as ps\n",
    "from scipy import stats\n",
    "import matplotlib.pyplot as plt\n",
    "import pandas as pd\n"
   ]
  },
  {
   "cell_type": "code",
   "execution_count": 5,
   "id": "8602a416",
   "metadata": {},
   "outputs": [
    {
     "name": "stderr",
     "output_type": "stream",
     "text": [
      "                                                                                \r"
     ]
    }
   ],
   "source": [
    "#import data\n",
    "\n",
    "seer_data = spark.read.csv('./SEER 2018-2022.txt', header = False, sep = '\\t')"
   ]
  },
  {
   "cell_type": "markdown",
   "id": "120fa429",
   "metadata": {},
   "source": [
    "#### Acquire and Add Column Names to Dataframe"
   ]
  },
  {
   "cell_type": "code",
   "execution_count": 6,
   "id": "19551aa5",
   "metadata": {},
   "outputs": [],
   "source": [
    "#text-processing for column names\n",
    "\n",
    "dictionary_text = '''\n",
    "Var1Name=Year of diagnosis\n",
    "Var1DisplayType=Formatted\n",
    "Var2Name=Age recode with <1 year olds and 90+\n",
    "Var2DisplayType=Formatted\n",
    "Var3Name=Sex\n",
    "Var3DisplayType=Formatted\n",
    "Var4Name=Race recode (W, B, AI, API)\n",
    "Var4DisplayType=Formatted\n",
    "Var5Name=Origin recode NHIA (Hispanic, Non-Hisp)\n",
    "Var5DisplayType=Formatted\n",
    "Var6Name=Race and origin recode (NHW, NHB, NHAIAN, NHAPI, Hispanic)\n",
    "Var6DisplayType=Formatted\n",
    "Var7Name=Median household income inflation adj to 2023\n",
    "Var7DisplayType=Formatted\n",
    "Var8Name=Rural-Urban Continuum Code\n",
    "Var8DisplayType=Formatted\n",
    "Var9Name=Sequence number\n",
    "Var9DisplayType=Formatted\n",
    "Var10Name=First malignant primary indicator\n",
    "Var10DisplayType=Formatted\n",
    "Var11Name=Primary by international rules\n",
    "Var11DisplayType=Formatted\n",
    "Var12Name=Record number recode\n",
    "Var12DisplayType=Formatted\n",
    "Var13Name=Total number of in situ/malignant tumors for patient\n",
    "Var13DisplayType=Formatted\n",
    "Var14Name=Total number of benign/borderline tumors for patient\n",
    "Var14DisplayType=Formatted\n",
    "Var15Name=AYA site recode 2020 Revision\n",
    "Var15DisplayType=Formatted\n",
    "Var16Name=SEER Brain and CNS Recode\n",
    "Var16DisplayType=Formatted\n",
    "Var17Name=Behavior code ICD-O-3\n",
    "Var17DisplayType=Formatted\n",
    "Var18Name=Primary Site - labeled\n",
    "Var18DisplayType=Formatted\n",
    "Var19Name=Primary Site\n",
    "Var19DisplayType=Formatted\n",
    "Var20Name=Histologic Type ICD-O-3\n",
    "Var20DisplayType=Formatted\n",
    "Var21Name=Combined Summary Stage with Expanded Regional Codes (2004+)\n",
    "Var21DisplayType=Formatted\n",
    "Var22Name=Derived EOD 2018 T Recode (2018+)\n",
    "Var22DisplayType=Formatted\n",
    "Var23Name=Derived EOD 2018 N Recode (2018+)\n",
    "Var23DisplayType=Formatted\n",
    "Var24Name=Derived EOD 2018 M Recode (2018+)\n",
    "Var24DisplayType=Formatted\n",
    "Var25Name=Derived EOD 2018 Stage Group Recode (2018+)\n",
    "Var25DisplayType=Formatted\n",
    "Var26Name=Derived AJCC Stage Group, 7th ed (2010-2015)\n",
    "Var26DisplayType=Formatted\n",
    "Var27Name=Derived AJCC T, 7th ed (2010-2015)\n",
    "Var27DisplayType=Formatted\n",
    "Var28Name=Derived AJCC N, 7th ed (2010-2015)\n",
    "Var28DisplayType=Formatted\n",
    "Var29Name=Derived AJCC M, 7th ed (2010-2015)\n",
    "Var29DisplayType=Formatted\n",
    "Var30Name=7th Edition Stage Group Recode (2016-2017)\n",
    "Var30DisplayType=Formatted\n",
    "Var31Name=Derived SEER Cmb Stg Grp (2016-2017)\n",
    "Var31DisplayType=Formatted\n",
    "Var32Name=Derived SEER Combined T (2016-2017)\n",
    "Var32DisplayType=Formatted\n",
    "Var33Name=Derived SEER Combined N (2016-2017)\n",
    "Var33DisplayType=Formatted\n",
    "Var34Name=Derived SEER Combined M (2016-2017)\n",
    "Var34DisplayType=Formatted\n",
    "Var35Name=Derived SEER Combined T Src (2016-2017)\n",
    "Var35DisplayType=Formatted\n",
    "Var36Name=Derived SEER Combined N Src (2016-2017)\n",
    "Var36DisplayType=Formatted\n",
    "Var37Name=Derived SEER Combined M Src (2016-2017)\n",
    "Var37DisplayType=Formatted\n",
    "Var38Name=TNM Edition Number (2016-2017)\n",
    "Var38DisplayType=Formatted\n",
    "Var39Name=RX Summ--Surg Prim Site (1998+)\n",
    "Var39DisplayType=Formatted\n",
    "Var40Name=RX Summ--Scope Reg LN Sur (2003+)\n",
    "Var40DisplayType=Formatted\n",
    "Var41Name=RX Summ--Surg Oth Reg/Dis (2003+)\n",
    "Var41DisplayType=Formatted\n",
    "Var42Name=RX Summ--Surg/Rad Seq\n",
    "Var42DisplayType=Formatted\n",
    "Var43Name=Reason no cancer-directed surgery\n",
    "Var43DisplayType=Formatted\n",
    "Var44Name=Radiation recode\n",
    "Var44DisplayType=Formatted\n",
    "Var45Name=Chemotherapy recode (yes, no/unk)\n",
    "Var45DisplayType=Formatted\n",
    "Var46Name=Scope of reg lymph nd surg (1998-2002)\n",
    "Var46DisplayType=Formatted\n",
    "Var47Name=RX Summ--Reg LN Examined (1998-2002)\n",
    "Var47DisplayType=Formatted\n",
    "Var48Name=Surgery of oth reg/dis sites (1998-2002)\n",
    "Var48DisplayType=Formatted\n",
    "Var49Name=Site specific surgery (1973-1997 varying detail by year and site)\n",
    "Var49DisplayType=Formatted\n",
    "Var50Name=Radiation to Brain or CNS Recode (1988-1997)\n",
    "Var50DisplayType=Formatted\n",
    "Var51Name=RX Summ--Systemic/Sur Seq (2007+)\n",
    "Var51DisplayType=Formatted\n",
    "Var52Name=Time from diagnosis to treatment in days recode\n",
    "Var52DisplayType=Formatted\n",
    "Var53Name=COD to site recode\n",
    "Var53DisplayType=Formatted\n",
    "Var54Name=SEER cause-specific death classification\n",
    "Var54DisplayType=Formatted\n",
    "Var55Name=SEER other cause of death classification\n",
    "Var55DisplayType=Formatted\n",
    "Var56Name=Survival months\n",
    "Var56DisplayType=Formatted\n",
    "Var57Name=Survival months flag\n",
    "Var57DisplayType=Formatted\n",
    "Var58Name=COD to site rec KM\n",
    "Var58DisplayType=Formatted\n",
    "Var59Name=COD to site recode ICD-O-3 2023 Revision\n",
    "Var59DisplayType=Formatted\n",
    "Var60Name=COD to site recode ICD-O-3 2023 Revision Expanded (1999+)\n",
    "Var60DisplayType=Formatted\n",
    "Var61Name=Vital status recode (study cutoff used)\n",
    "Var61DisplayType=Formatted\n",
    "'''\n",
    "\n",
    "#split text into lines\n",
    "lines = dictionary_text.strip().splitlines()\n",
    "\n",
    "#Filter out lines containing 'Formatted'\n",
    "name_lines = [line for line in lines if 'Formatted' not in line]\n",
    "\n",
    "#clean up name lines by removing the 'VARxxDisplayType=' section of each line\n",
    "col_names = [line.split('=', 1)[1] for line in name_lines]"
   ]
  },
  {
   "cell_type": "code",
   "execution_count": 7,
   "id": "e6fb85ac",
   "metadata": {},
   "outputs": [],
   "source": [
    "#add column names to dataframe\n",
    "seer_data = seer_data.toDF(*col_names)"
   ]
  },
  {
   "cell_type": "code",
   "execution_count": 8,
   "id": "d026b29a",
   "metadata": {},
   "outputs": [
    {
     "name": "stderr",
     "output_type": "stream",
     "text": [
      "[Stage 1:=================================================>       (13 + 2) / 15]\r"
     ]
    },
    {
     "name": "stdout",
     "output_type": "stream",
     "text": [
      "+----------------------------------------------------+-------+\n",
      "|SEER Brain and CNS Recode                           |count  |\n",
      "+----------------------------------------------------+-------+\n",
      "|1.4 Choroid plexus tumors                           |33     |\n",
      "|1.1.7 Astroblastoma                                 |9      |\n",
      "|1.1.1 Diffuse astrocytoma and anaplastic astrocytoma|3249   |\n",
      "|1.1.6 Other astrocytic tumors                       |1397   |\n",
      "|1.3 Meningiomas                                     |446    |\n",
      "|1.1.10 Other                                        |47     |\n",
      "|1.1.5 Oligoastrocytoma                              |15     |\n",
      "|1.1.9 Glioma, unspecified                           |1922   |\n",
      "|5. All Other Cancer Types                           |2237285|\n",
      "|1.1.8 Ependymal tumors                              |920    |\n",
      "|1.6 Other Malignant Brain/ONS                       |2077   |\n",
      "|3. Malignant tumors of the pineal region            |116    |\n",
      "|1.1.4 Oligodendroglioma                             |1399   |\n",
      "|1.2 Embryonal tumors                                |784    |\n",
      "|1.1.3 Diffuse midline glioma, H3 K27M-mutant        |379    |\n",
      "|1.5 Neuronal and mixed neuronal-glial tumors        |25     |\n",
      "|1.1.2 Glioblastoma                                  |16800  |\n",
      "+----------------------------------------------------+-------+\n",
      "\n"
     ]
    },
    {
     "name": "stderr",
     "output_type": "stream",
     "text": [
      "                                                                                \r"
     ]
    }
   ],
   "source": [
    "#display CNS labeling to identify value for non-CNS related cancers\n",
    "seer_data.groupBy('SEER Brain and CNS Recode').count().show(truncate = False)"
   ]
  },
  {
   "cell_type": "code",
   "execution_count": 9,
   "id": "5bbb9bb9",
   "metadata": {},
   "outputs": [
    {
     "name": "stderr",
     "output_type": "stream",
     "text": [
      "                                                                                \r"
     ]
    },
    {
     "data": {
      "text/plain": [
       "570952"
      ]
     },
     "execution_count": 9,
     "metadata": {},
     "output_type": "execute_result"
    }
   ],
   "source": [
    "#count of missing data / CNS cancers\n",
    "seer_data[\n",
    "    (seer_data['Median household income inflation adj to 2023'] == 'Unknown/missing/no match/Not 1990-2023') | \n",
    "    (seer_data['Race and origin recode (NHW, NHB, NHAIAN, NHAPI, Hispanic)'] == 'Non-Hispanic Unknown Race') |\n",
    "    (seer_data['Rural-Urban Continuum Code'] == 'Unknown/missing/no match (Alaska or Hawaii - Entire State)') |\n",
    "    (seer_data['Rural-Urban Continuum Code'] == 'Unknown/missing/no match/Not 1990-2023') |\n",
    "    (seer_data['Time from diagnosis to treatment in days recode'] == 'Unable to calculate') |\n",
    "    (seer_data['Time from diagnosis to treatment in days recode'] == '731+ days') |\n",
    "    (seer_data['SEER Brain and CNS Recode'] != '5. All Other Cancer Types')\n",
    "].count()"
   ]
  },
  {
   "cell_type": "markdown",
   "id": "f07501a6",
   "metadata": {},
   "source": [
    "#### Remove Missing Data / CNS cancers"
   ]
  },
  {
   "cell_type": "code",
   "execution_count": 10,
   "id": "421a9656",
   "metadata": {},
   "outputs": [],
   "source": [
    "#remove all missing data and all CNS-related cancers\n",
    "seer_data_cleaned = seer_data.filter(\n",
    "    (seer_data['Median household income inflation adj to 2023'] != 'Unknown/missing/no match/Not 1990-2023') & \n",
    "    (seer_data['Race and origin recode (NHW, NHB, NHAIAN, NHAPI, Hispanic)'] != 'Non-Hispanic Unknown Race') &\n",
    "    (seer_data['Rural-Urban Continuum Code'] != 'Unknown/missing/no match (Alaska or Hawaii - Entire State)') &\n",
    "    (seer_data['Rural-Urban Continuum Code'] != 'Unknown/missing/no match/Not 1990-2023') &\n",
    "    (seer_data['Time from diagnosis to treatment in days recode'] != 'Unable to calculate') &\n",
    "    (seer_data['Time from diagnosis to treatment in days recode'] != '731+ days') &\n",
    "    (seer_data['SEER Brain and CNS Recode'] == '5. All Other Cancer Types')\n",
    "    )"
   ]
  },
  {
   "cell_type": "markdown",
   "id": "be1fe9bc",
   "metadata": {},
   "source": [
    "## Descriptive Analysis"
   ]
  },
  {
   "cell_type": "markdown",
   "id": "3125662d",
   "metadata": {},
   "source": [
    "#### Total Count"
   ]
  },
  {
   "cell_type": "code",
   "execution_count": 11,
   "id": "b0b7b16b",
   "metadata": {},
   "outputs": [
    {
     "name": "stderr",
     "output_type": "stream",
     "text": [
      "                                                                                \r"
     ]
    },
    {
     "data": {
      "text/plain": [
       "2266903"
      ]
     },
     "execution_count": 11,
     "metadata": {},
     "output_type": "execute_result"
    }
   ],
   "source": [
    "#total dataset count prior to removal of missing values and CNS cancers\n",
    "seer_data.count()"
   ]
  },
  {
   "cell_type": "code",
   "execution_count": 12,
   "id": "fb467343",
   "metadata": {},
   "outputs": [
    {
     "name": "stderr",
     "output_type": "stream",
     "text": [
      "[Stage 10:============================================>           (12 + 3) / 15]\r"
     ]
    },
    {
     "name": "stdout",
     "output_type": "stream",
     "text": [
      "Total Row Count: 1695951\n"
     ]
    },
    {
     "name": "stderr",
     "output_type": "stream",
     "text": [
      "                                                                                \r"
     ]
    }
   ],
   "source": [
    "#total count of dataset following removal of missing values / CNS cancers\n",
    "n = seer_data_cleaned.count()\n",
    "\n",
    "print(f'Total Row Count: {n}')"
   ]
  },
  {
   "cell_type": "markdown",
   "id": "69f3813e",
   "metadata": {},
   "source": [
    "## Statistical Analysis - Time to Treatment"
   ]
  },
  {
   "cell_type": "code",
   "execution_count": 13,
   "id": "2af12da4",
   "metadata": {},
   "outputs": [
    {
     "name": "stderr",
     "output_type": "stream",
     "text": [
      "                                                                                \r"
     ]
    }
   ],
   "source": [
    "#take a sample of the dataset for analysis and convert to pandas dataframe\n",
    "sample_df = seer_data_cleaned.sample(fraction=0.02, seed=42)\n",
    "sample_pd = sample_df.toPandas()"
   ]
  },
  {
   "cell_type": "code",
   "execution_count": 14,
   "id": "20f547cf",
   "metadata": {},
   "outputs": [],
   "source": [
    "#convert numeric columns to integer data types\n",
    "sample_pd['Time from diagnosis to treatment in days recode'] = sample_pd['Time from diagnosis to treatment in days recode'].astype(int)\n",
    "sample_pd['Year of diagnosis'] = sample_pd['Year of diagnosis'].astype(int)\n",
    "sample_pd['Survival months'] = sample_pd['Survival months'].astype(int)\n",
    "sample_pd['Total number of in situ/malignant tumors for patient'] = sample_pd['Total number of in situ/malignant tumors for patient'].astype(int)\n",
    "sample_pd['Total number of benign/borderline tumors for patient'] = sample_pd['Total number of benign/borderline tumors for patient'].astype(int)"
   ]
  },
  {
   "cell_type": "code",
   "execution_count": 15,
   "id": "2258222d",
   "metadata": {},
   "outputs": [],
   "source": [
    "#re-code age to larger groups that represent each decade\n",
    "\n",
    "age_mapping = {\n",
    "    '00 years': '00-19 years', \n",
    "    '01-04 years': '00-19 years',\n",
    "    '05-09 years': '00-19 years',\n",
    "    '10-14 years': '00-19 years',\n",
    "    '15-19 years': '00-19 years',\n",
    "    '20-24 years': '20-29 years',\n",
    "    '25-29 years': '20-29 years',\n",
    "    '30-34 years': '30-39 years',\n",
    "    '35-39 years': '30-39 years',\n",
    "    '40-44 years': '40-49 years',\n",
    "    '45-49 years': '40-49 years',\n",
    "    '50-54 years': '50-59 years',\n",
    "    '55-59 years': '50-59 years',\n",
    "    '60-64 years': '60-69 years',\n",
    "    '65-69 years': '60-69 years',\n",
    "    '70-74 years': '70-79 years',\n",
    "    '75-79 years': '70-79 years',\n",
    "    '80-84 years': '80-89 years',\n",
    "    '85-89 years': '80-89 years',\n",
    "    '90+ years': '90+ years'\n",
    "}\n",
    "\n",
    "sample_pd['Age Group'] = sample_pd['Age recode with <1 year olds and 90+'].map(age_mapping)"
   ]
  },
  {
   "cell_type": "code",
   "execution_count": 16,
   "id": "8f6e58de",
   "metadata": {},
   "outputs": [],
   "source": [
    "#recode income to smaller groups\n",
    "income_mapping = {\n",
    "    '< $40,000': '< $40,000',\n",
    "    '$40,000 - $44,999': '$40,000 - $54,999',\n",
    "    '$45,000 - $49,999': '$40,000 - $54,999',\n",
    "    '$50,000 - $54,999': '$40,000 - $54,999',\n",
    "    '$55,000 - $59,999': '$55,000 - 79,999',\n",
    "    '$60,000 - $64,999': '$55,000 - 79,999',\n",
    "    '$65,000 - $69,999': '$55,000 - 79,999',\n",
    "    '$70,000 - $74,999': '$55,000 - 79,999',\n",
    "    '$75,000 - $79,999': '$55,000 - 79,999',\n",
    "    '$80,000 - $84,999': '$80,000+',\n",
    "    '$85,000 - $89,999': '$80,000+',\n",
    "    '$90,000 - $94,999': '$80,000+',\n",
    "    '$95,000 - $99,999': '$80,000+',\n",
    "    '$100,000 - $109,999': '$80,000+',\n",
    "    '$110,000 - $119,999': '$80,000+',\n",
    "    '$120,000+': '$80,000+'\n",
    "}\n",
    "\n",
    "sample_pd['Income Group'] = sample_pd['Median household income inflation adj to 2023'].map(income_mapping)"
   ]
  },
  {
   "cell_type": "code",
   "execution_count": 17,
   "id": "eed6a3a2",
   "metadata": {},
   "outputs": [],
   "source": [
    "#recode year to pre-covid,covid, and post-covid groups\n",
    "year_mapping = {\n",
    "    2018: '2018/2019',\n",
    "    2019: '2018/2019',\n",
    "    2020: '2020/2021',\n",
    "    2021: '2020/2021',\n",
    "    2022: '2022'\n",
    "}\n",
    "\n",
    "sample_pd['Year Group'] = sample_pd['Year of diagnosis'].map(year_mapping)"
   ]
  },
  {
   "cell_type": "code",
   "execution_count": 18,
   "id": "8faf7098",
   "metadata": {},
   "outputs": [],
   "source": [
    "#add binary classification column to dataset; 0 for <28 days and 1 for >=28days for 'time from diagnosis to treatment in days recode' column\n",
    "sample_pd['Treatment Delay'] = sample_pd['Time from diagnosis to treatment in days recode'].apply(lambda x: 0 if x < 28 else 1)"
   ]
  },
  {
   "cell_type": "markdown",
   "id": "83b24008",
   "metadata": {},
   "source": [
    "#### Sex"
   ]
  },
  {
   "cell_type": "code",
   "execution_count": 19,
   "id": "54a6d859",
   "metadata": {},
   "outputs": [
    {
     "data": {
      "text/plain": [
       "Sex\n",
       "Female    0.525109\n",
       "Male      0.474891\n",
       "Name: proportion, dtype: float64"
      ]
     },
     "execution_count": 19,
     "metadata": {},
     "output_type": "execute_result"
    }
   ],
   "source": [
    "#calculate proportions for sexes in dataset\n",
    "sample_pd['Sex'].value_counts(normalize = True)"
   ]
  },
  {
   "cell_type": "code",
   "execution_count": 20,
   "id": "580e27fc",
   "metadata": {},
   "outputs": [
    {
     "name": "stdout",
     "output_type": "stream",
     "text": [
      "Average Time from Diagnosis to Treatment by Sex\n"
     ]
    },
    {
     "data": {
      "text/html": [
       "<div>\n",
       "<style scoped>\n",
       "    .dataframe tbody tr th:only-of-type {\n",
       "        vertical-align: middle;\n",
       "    }\n",
       "\n",
       "    .dataframe tbody tr th {\n",
       "        vertical-align: top;\n",
       "    }\n",
       "\n",
       "    .dataframe thead th {\n",
       "        text-align: right;\n",
       "    }\n",
       "</style>\n",
       "<table border=\"1\" class=\"dataframe\">\n",
       "  <thead>\n",
       "    <tr style=\"text-align: right;\">\n",
       "      <th></th>\n",
       "      <th>count</th>\n",
       "      <th>mean</th>\n",
       "      <th>std</th>\n",
       "      <th>min</th>\n",
       "      <th>25%</th>\n",
       "      <th>50%</th>\n",
       "      <th>75%</th>\n",
       "      <th>max</th>\n",
       "    </tr>\n",
       "    <tr>\n",
       "      <th>Sex</th>\n",
       "      <th></th>\n",
       "      <th></th>\n",
       "      <th></th>\n",
       "      <th></th>\n",
       "      <th></th>\n",
       "      <th></th>\n",
       "      <th></th>\n",
       "      <th></th>\n",
       "    </tr>\n",
       "  </thead>\n",
       "  <tbody>\n",
       "    <tr>\n",
       "      <th>Female</th>\n",
       "      <td>18017.0</td>\n",
       "      <td>35.371760</td>\n",
       "      <td>39.901736</td>\n",
       "      <td>0.0</td>\n",
       "      <td>5.0</td>\n",
       "      <td>29.0</td>\n",
       "      <td>49.0</td>\n",
       "      <td>715.0</td>\n",
       "    </tr>\n",
       "    <tr>\n",
       "      <th>Male</th>\n",
       "      <td>16294.0</td>\n",
       "      <td>43.549834</td>\n",
       "      <td>58.825752</td>\n",
       "      <td>0.0</td>\n",
       "      <td>0.0</td>\n",
       "      <td>28.0</td>\n",
       "      <td>61.0</td>\n",
       "      <td>730.0</td>\n",
       "    </tr>\n",
       "  </tbody>\n",
       "</table>\n",
       "</div>"
      ],
      "text/plain": [
       "          count       mean        std  min  25%   50%   75%    max\n",
       "Sex                                                               \n",
       "Female  18017.0  35.371760  39.901736  0.0  5.0  29.0  49.0  715.0\n",
       "Male    16294.0  43.549834  58.825752  0.0  0.0  28.0  61.0  730.0"
      ]
     },
     "execution_count": 20,
     "metadata": {},
     "output_type": "execute_result"
    }
   ],
   "source": [
    "#summarize central tendency stats and quartiles for time to treatment for each sex\n",
    "print('Average Time from Diagnosis to Treatment by Sex')\n",
    "sample_pd.groupby('Sex')['Time from diagnosis to treatment in days recode'].describe()"
   ]
  },
  {
   "cell_type": "code",
   "execution_count": 21,
   "id": "08c0af70",
   "metadata": {},
   "outputs": [
    {
     "name": "stdout",
     "output_type": "stream",
     "text": [
      "T-statistic: 14.912519613129076, P-value: 4.239640668828899e-50\n",
      "ConfidenceInterval(low=7.103177607960114, high=9.252970972824293)\n"
     ]
    }
   ],
   "source": [
    "#run t-test comparing average time from diagnosis to treatment in men vs. women\n",
    "group1 = sample_pd[sample_pd['Sex'] == 'Male']['Time from diagnosis to treatment in days recode']\n",
    "group2 = sample_pd[sample_pd['Sex'] == 'Female']['Time from diagnosis to treatment in days recode']\n",
    "\n",
    "t_stat, p_val = stats.ttest_ind(group1, group2, equal_var = False)\n",
    "\n",
    "print(f'T-statistic: {t_stat}, P-value: {p_val}')\n",
    "print(stats.ttest_ind(group1, group2, equal_var = False).confidence_interval())"
   ]
  },
  {
   "cell_type": "markdown",
   "id": "928d565b",
   "metadata": {},
   "source": [
    "#### Age"
   ]
  },
  {
   "cell_type": "code",
   "execution_count": 22,
   "id": "ae4f2523",
   "metadata": {},
   "outputs": [
    {
     "data": {
      "text/plain": [
       "Age Group\n",
       "60-69 years    0.30\n",
       "70-79 years    0.26\n",
       "50-59 years    0.18\n",
       "80-89 years    0.11\n",
       "40-49 years    0.08\n",
       "30-39 years    0.04\n",
       "90+ years      0.02\n",
       "20-29 years    0.02\n",
       "00-19 years    0.01\n",
       "Name: proportion, dtype: float64"
      ]
     },
     "execution_count": 22,
     "metadata": {},
     "output_type": "execute_result"
    }
   ],
   "source": [
    "#calculate proportions for age groups in the dataset\n",
    "sample_pd['Age Group'].value_counts(normalize = True).round(2)"
   ]
  },
  {
   "cell_type": "code",
   "execution_count": 23,
   "id": "cef268bc",
   "metadata": {},
   "outputs": [
    {
     "name": "stdout",
     "output_type": "stream",
     "text": [
      "Average Time from Diagnosis to Treatment by Age Group\n"
     ]
    },
    {
     "data": {
      "text/html": [
       "<div>\n",
       "<style scoped>\n",
       "    .dataframe tbody tr th:only-of-type {\n",
       "        vertical-align: middle;\n",
       "    }\n",
       "\n",
       "    .dataframe tbody tr th {\n",
       "        vertical-align: top;\n",
       "    }\n",
       "\n",
       "    .dataframe thead th {\n",
       "        text-align: right;\n",
       "    }\n",
       "</style>\n",
       "<table border=\"1\" class=\"dataframe\">\n",
       "  <thead>\n",
       "    <tr style=\"text-align: right;\">\n",
       "      <th></th>\n",
       "      <th>count</th>\n",
       "      <th>mean</th>\n",
       "      <th>std</th>\n",
       "      <th>min</th>\n",
       "      <th>25%</th>\n",
       "      <th>50%</th>\n",
       "      <th>75%</th>\n",
       "      <th>max</th>\n",
       "    </tr>\n",
       "    <tr>\n",
       "      <th>Age Group</th>\n",
       "      <th></th>\n",
       "      <th></th>\n",
       "      <th></th>\n",
       "      <th></th>\n",
       "      <th></th>\n",
       "      <th></th>\n",
       "      <th></th>\n",
       "      <th></th>\n",
       "    </tr>\n",
       "  </thead>\n",
       "  <tbody>\n",
       "    <tr>\n",
       "      <th>00-19 years</th>\n",
       "      <td>318.0</td>\n",
       "      <td>12.701258</td>\n",
       "      <td>34.490003</td>\n",
       "      <td>0.0</td>\n",
       "      <td>0.0</td>\n",
       "      <td>3.0</td>\n",
       "      <td>11.0</td>\n",
       "      <td>375.0</td>\n",
       "    </tr>\n",
       "    <tr>\n",
       "      <th>20-29 years</th>\n",
       "      <td>523.0</td>\n",
       "      <td>23.892925</td>\n",
       "      <td>38.599178</td>\n",
       "      <td>0.0</td>\n",
       "      <td>0.0</td>\n",
       "      <td>8.0</td>\n",
       "      <td>34.0</td>\n",
       "      <td>361.0</td>\n",
       "    </tr>\n",
       "    <tr>\n",
       "      <th>30-39 years</th>\n",
       "      <td>1272.0</td>\n",
       "      <td>27.988208</td>\n",
       "      <td>41.232133</td>\n",
       "      <td>0.0</td>\n",
       "      <td>0.0</td>\n",
       "      <td>17.0</td>\n",
       "      <td>42.0</td>\n",
       "      <td>433.0</td>\n",
       "    </tr>\n",
       "    <tr>\n",
       "      <th>40-49 years</th>\n",
       "      <td>2822.0</td>\n",
       "      <td>33.514174</td>\n",
       "      <td>39.831197</td>\n",
       "      <td>0.0</td>\n",
       "      <td>0.0</td>\n",
       "      <td>26.0</td>\n",
       "      <td>49.0</td>\n",
       "      <td>420.0</td>\n",
       "    </tr>\n",
       "    <tr>\n",
       "      <th>50-59 years</th>\n",
       "      <td>6035.0</td>\n",
       "      <td>40.843745</td>\n",
       "      <td>52.845366</td>\n",
       "      <td>0.0</td>\n",
       "      <td>2.0</td>\n",
       "      <td>29.0</td>\n",
       "      <td>55.0</td>\n",
       "      <td>730.0</td>\n",
       "    </tr>\n",
       "    <tr>\n",
       "      <th>60-69 years</th>\n",
       "      <td>10229.0</td>\n",
       "      <td>44.112230</td>\n",
       "      <td>54.511696</td>\n",
       "      <td>0.0</td>\n",
       "      <td>6.0</td>\n",
       "      <td>32.0</td>\n",
       "      <td>59.0</td>\n",
       "      <td>697.0</td>\n",
       "    </tr>\n",
       "    <tr>\n",
       "      <th>70-79 years</th>\n",
       "      <td>8921.0</td>\n",
       "      <td>40.482906</td>\n",
       "      <td>49.013807</td>\n",
       "      <td>0.0</td>\n",
       "      <td>4.0</td>\n",
       "      <td>29.0</td>\n",
       "      <td>55.0</td>\n",
       "      <td>718.0</td>\n",
       "    </tr>\n",
       "    <tr>\n",
       "      <th>80-89 years</th>\n",
       "      <td>3652.0</td>\n",
       "      <td>33.893209</td>\n",
       "      <td>43.383357</td>\n",
       "      <td>0.0</td>\n",
       "      <td>0.0</td>\n",
       "      <td>25.0</td>\n",
       "      <td>48.0</td>\n",
       "      <td>640.0</td>\n",
       "    </tr>\n",
       "    <tr>\n",
       "      <th>90+ years</th>\n",
       "      <td>539.0</td>\n",
       "      <td>32.539889</td>\n",
       "      <td>49.176677</td>\n",
       "      <td>0.0</td>\n",
       "      <td>0.0</td>\n",
       "      <td>19.0</td>\n",
       "      <td>49.0</td>\n",
       "      <td>636.0</td>\n",
       "    </tr>\n",
       "  </tbody>\n",
       "</table>\n",
       "</div>"
      ],
      "text/plain": [
       "               count       mean        std  min  25%   50%   75%    max\n",
       "Age Group                                                              \n",
       "00-19 years    318.0  12.701258  34.490003  0.0  0.0   3.0  11.0  375.0\n",
       "20-29 years    523.0  23.892925  38.599178  0.0  0.0   8.0  34.0  361.0\n",
       "30-39 years   1272.0  27.988208  41.232133  0.0  0.0  17.0  42.0  433.0\n",
       "40-49 years   2822.0  33.514174  39.831197  0.0  0.0  26.0  49.0  420.0\n",
       "50-59 years   6035.0  40.843745  52.845366  0.0  2.0  29.0  55.0  730.0\n",
       "60-69 years  10229.0  44.112230  54.511696  0.0  6.0  32.0  59.0  697.0\n",
       "70-79 years   8921.0  40.482906  49.013807  0.0  4.0  29.0  55.0  718.0\n",
       "80-89 years   3652.0  33.893209  43.383357  0.0  0.0  25.0  48.0  640.0\n",
       "90+ years      539.0  32.539889  49.176677  0.0  0.0  19.0  49.0  636.0"
      ]
     },
     "execution_count": 23,
     "metadata": {},
     "output_type": "execute_result"
    }
   ],
   "source": [
    "#summarize central tendency stats and quartiles for time to treatment for each recoded age group\n",
    "print('Average Time from Diagnosis to Treatment by Age Group')\n",
    "sample_pd.groupby('Age Group')['Time from diagnosis to treatment in days recode'].describe()"
   ]
  },
  {
   "cell_type": "markdown",
   "id": "5b36fb30",
   "metadata": {},
   "source": [
    "#### Race/Ethnicity"
   ]
  },
  {
   "cell_type": "code",
   "execution_count": 24,
   "id": "3014cce2",
   "metadata": {},
   "outputs": [
    {
     "data": {
      "text/plain": [
       "Race and origin recode (NHW, NHB, NHAIAN, NHAPI, Hispanic)\n",
       "Non-Hispanic White                            0.68\n",
       "Hispanic (All Races)                          0.13\n",
       "Non-Hispanic Black                            0.10\n",
       "Non-Hispanic Asian or Pacific Islander        0.08\n",
       "Non-Hispanic American Indian/Alaska Native    0.01\n",
       "Name: proportion, dtype: float64"
      ]
     },
     "execution_count": 24,
     "metadata": {},
     "output_type": "execute_result"
    }
   ],
   "source": [
    "#calculate proportions for race/ethnicities in dataset\n",
    "sample_pd['Race and origin recode (NHW, NHB, NHAIAN, NHAPI, Hispanic)'].value_counts(normalize = True).round(2)"
   ]
  },
  {
   "cell_type": "code",
   "execution_count": 25,
   "id": "2b4a61bd",
   "metadata": {},
   "outputs": [
    {
     "name": "stdout",
     "output_type": "stream",
     "text": [
      "Average Time from Diagnosis to Treatment by Age Group\n"
     ]
    },
    {
     "data": {
      "text/html": [
       "<div>\n",
       "<style scoped>\n",
       "    .dataframe tbody tr th:only-of-type {\n",
       "        vertical-align: middle;\n",
       "    }\n",
       "\n",
       "    .dataframe tbody tr th {\n",
       "        vertical-align: top;\n",
       "    }\n",
       "\n",
       "    .dataframe thead th {\n",
       "        text-align: right;\n",
       "    }\n",
       "</style>\n",
       "<table border=\"1\" class=\"dataframe\">\n",
       "  <thead>\n",
       "    <tr style=\"text-align: right;\">\n",
       "      <th></th>\n",
       "      <th>count</th>\n",
       "      <th>mean</th>\n",
       "      <th>std</th>\n",
       "      <th>min</th>\n",
       "      <th>25%</th>\n",
       "      <th>50%</th>\n",
       "      <th>75%</th>\n",
       "      <th>max</th>\n",
       "    </tr>\n",
       "    <tr>\n",
       "      <th>Race and origin recode (NHW, NHB, NHAIAN, NHAPI, Hispanic)</th>\n",
       "      <th></th>\n",
       "      <th></th>\n",
       "      <th></th>\n",
       "      <th></th>\n",
       "      <th></th>\n",
       "      <th></th>\n",
       "      <th></th>\n",
       "      <th></th>\n",
       "    </tr>\n",
       "  </thead>\n",
       "  <tbody>\n",
       "    <tr>\n",
       "      <th>Hispanic (All Races)</th>\n",
       "      <td>4345.0</td>\n",
       "      <td>42.66</td>\n",
       "      <td>53.78</td>\n",
       "      <td>0.0</td>\n",
       "      <td>2.0</td>\n",
       "      <td>31.0</td>\n",
       "      <td>59.0</td>\n",
       "      <td>659.0</td>\n",
       "    </tr>\n",
       "    <tr>\n",
       "      <th>Non-Hispanic American Indian/Alaska Native</th>\n",
       "      <td>175.0</td>\n",
       "      <td>36.77</td>\n",
       "      <td>43.84</td>\n",
       "      <td>0.0</td>\n",
       "      <td>3.5</td>\n",
       "      <td>29.0</td>\n",
       "      <td>49.0</td>\n",
       "      <td>356.0</td>\n",
       "    </tr>\n",
       "    <tr>\n",
       "      <th>Non-Hispanic Asian or Pacific Islander</th>\n",
       "      <td>2866.0</td>\n",
       "      <td>40.32</td>\n",
       "      <td>45.43</td>\n",
       "      <td>0.0</td>\n",
       "      <td>7.0</td>\n",
       "      <td>31.0</td>\n",
       "      <td>56.0</td>\n",
       "      <td>534.0</td>\n",
       "    </tr>\n",
       "    <tr>\n",
       "      <th>Non-Hispanic Black</th>\n",
       "      <td>3587.0</td>\n",
       "      <td>49.75</td>\n",
       "      <td>63.83</td>\n",
       "      <td>0.0</td>\n",
       "      <td>5.0</td>\n",
       "      <td>34.0</td>\n",
       "      <td>66.0</td>\n",
       "      <td>697.0</td>\n",
       "    </tr>\n",
       "    <tr>\n",
       "      <th>Non-Hispanic White</th>\n",
       "      <td>23338.0</td>\n",
       "      <td>36.90</td>\n",
       "      <td>47.04</td>\n",
       "      <td>0.0</td>\n",
       "      <td>0.0</td>\n",
       "      <td>27.0</td>\n",
       "      <td>51.0</td>\n",
       "      <td>730.0</td>\n",
       "    </tr>\n",
       "  </tbody>\n",
       "</table>\n",
       "</div>"
      ],
      "text/plain": [
       "                                                      count   mean    std  \\\n",
       "Race and origin recode (NHW, NHB, NHAIAN, NHAPI...                          \n",
       "Hispanic (All Races)                                 4345.0  42.66  53.78   \n",
       "Non-Hispanic American Indian/Alaska Native            175.0  36.77  43.84   \n",
       "Non-Hispanic Asian or Pacific Islander               2866.0  40.32  45.43   \n",
       "Non-Hispanic Black                                   3587.0  49.75  63.83   \n",
       "Non-Hispanic White                                  23338.0  36.90  47.04   \n",
       "\n",
       "                                                    min  25%   50%   75%  \\\n",
       "Race and origin recode (NHW, NHB, NHAIAN, NHAPI...                         \n",
       "Hispanic (All Races)                                0.0  2.0  31.0  59.0   \n",
       "Non-Hispanic American Indian/Alaska Native          0.0  3.5  29.0  49.0   \n",
       "Non-Hispanic Asian or Pacific Islander              0.0  7.0  31.0  56.0   \n",
       "Non-Hispanic Black                                  0.0  5.0  34.0  66.0   \n",
       "Non-Hispanic White                                  0.0  0.0  27.0  51.0   \n",
       "\n",
       "                                                      max  \n",
       "Race and origin recode (NHW, NHB, NHAIAN, NHAPI...         \n",
       "Hispanic (All Races)                                659.0  \n",
       "Non-Hispanic American Indian/Alaska Native          356.0  \n",
       "Non-Hispanic Asian or Pacific Islander              534.0  \n",
       "Non-Hispanic Black                                  697.0  \n",
       "Non-Hispanic White                                  730.0  "
      ]
     },
     "execution_count": 25,
     "metadata": {},
     "output_type": "execute_result"
    }
   ],
   "source": [
    "#summarize central tendency stats and quartiles for time to treatment for each age group\n",
    "print('Average Time from Diagnosis to Treatment by Age Group')\n",
    "sample_pd.groupby('Race and origin recode (NHW, NHB, NHAIAN, NHAPI, Hispanic)')['Time from diagnosis to treatment in days recode'].describe().round(2)"
   ]
  },
  {
   "cell_type": "markdown",
   "id": "804f3ad4",
   "metadata": {},
   "source": [
    "#### Income"
   ]
  },
  {
   "cell_type": "code",
   "execution_count": 26,
   "id": "ed9396b6",
   "metadata": {},
   "outputs": [
    {
     "data": {
      "text/plain": [
       "Income Group\n",
       "$80,000+             0.66\n",
       "$55,000 - 79,999     0.27\n",
       "$40,000 - $54,999    0.06\n",
       "< $40,000            0.01\n",
       "Name: proportion, dtype: float64"
      ]
     },
     "execution_count": 26,
     "metadata": {},
     "output_type": "execute_result"
    }
   ],
   "source": [
    "#calculate proportions of income groups in the dataset\n",
    "sample_pd['Income Group'].value_counts(normalize = True).round(2)"
   ]
  },
  {
   "cell_type": "code",
   "execution_count": 27,
   "id": "67cd764e",
   "metadata": {},
   "outputs": [
    {
     "name": "stdout",
     "output_type": "stream",
     "text": [
      "Average Time from Diagnosis to Treatment by income Group\n"
     ]
    },
    {
     "data": {
      "text/html": [
       "<div>\n",
       "<style scoped>\n",
       "    .dataframe tbody tr th:only-of-type {\n",
       "        vertical-align: middle;\n",
       "    }\n",
       "\n",
       "    .dataframe tbody tr th {\n",
       "        vertical-align: top;\n",
       "    }\n",
       "\n",
       "    .dataframe thead th {\n",
       "        text-align: right;\n",
       "    }\n",
       "</style>\n",
       "<table border=\"1\" class=\"dataframe\">\n",
       "  <thead>\n",
       "    <tr style=\"text-align: right;\">\n",
       "      <th></th>\n",
       "      <th>count</th>\n",
       "      <th>mean</th>\n",
       "      <th>std</th>\n",
       "      <th>min</th>\n",
       "      <th>25%</th>\n",
       "      <th>50%</th>\n",
       "      <th>75%</th>\n",
       "      <th>max</th>\n",
       "    </tr>\n",
       "    <tr>\n",
       "      <th>Income Group</th>\n",
       "      <th></th>\n",
       "      <th></th>\n",
       "      <th></th>\n",
       "      <th></th>\n",
       "      <th></th>\n",
       "      <th></th>\n",
       "      <th></th>\n",
       "      <th></th>\n",
       "    </tr>\n",
       "  </thead>\n",
       "  <tbody>\n",
       "    <tr>\n",
       "      <th>$40,000 - $54,999</th>\n",
       "      <td>2130.0</td>\n",
       "      <td>39.21</td>\n",
       "      <td>50.63</td>\n",
       "      <td>0.0</td>\n",
       "      <td>1.0</td>\n",
       "      <td>28.0</td>\n",
       "      <td>54.0</td>\n",
       "      <td>525.0</td>\n",
       "    </tr>\n",
       "    <tr>\n",
       "      <th>$55,000 - 79,999</th>\n",
       "      <td>9096.0</td>\n",
       "      <td>39.25</td>\n",
       "      <td>51.10</td>\n",
       "      <td>0.0</td>\n",
       "      <td>1.0</td>\n",
       "      <td>28.0</td>\n",
       "      <td>54.0</td>\n",
       "      <td>730.0</td>\n",
       "    </tr>\n",
       "    <tr>\n",
       "      <th>$80,000+</th>\n",
       "      <td>22812.0</td>\n",
       "      <td>39.33</td>\n",
       "      <td>49.47</td>\n",
       "      <td>0.0</td>\n",
       "      <td>2.0</td>\n",
       "      <td>28.0</td>\n",
       "      <td>54.0</td>\n",
       "      <td>718.0</td>\n",
       "    </tr>\n",
       "    <tr>\n",
       "      <th>&lt; $40,000</th>\n",
       "      <td>273.0</td>\n",
       "      <td>33.82</td>\n",
       "      <td>46.95</td>\n",
       "      <td>0.0</td>\n",
       "      <td>0.0</td>\n",
       "      <td>21.0</td>\n",
       "      <td>43.0</td>\n",
       "      <td>322.0</td>\n",
       "    </tr>\n",
       "  </tbody>\n",
       "</table>\n",
       "</div>"
      ],
      "text/plain": [
       "                     count   mean    std  min  25%   50%   75%    max\n",
       "Income Group                                                         \n",
       "$40,000 - $54,999   2130.0  39.21  50.63  0.0  1.0  28.0  54.0  525.0\n",
       "$55,000 - 79,999    9096.0  39.25  51.10  0.0  1.0  28.0  54.0  730.0\n",
       "$80,000+           22812.0  39.33  49.47  0.0  2.0  28.0  54.0  718.0\n",
       "< $40,000            273.0  33.82  46.95  0.0  0.0  21.0  43.0  322.0"
      ]
     },
     "execution_count": 27,
     "metadata": {},
     "output_type": "execute_result"
    }
   ],
   "source": [
    "#summarize central tendency stats and quartiles for time to treatment each recoded income group\n",
    "print('Average Time from Diagnosis to Treatment by income Group')\n",
    "sample_pd.groupby('Income Group')['Time from diagnosis to treatment in days recode'].describe().round(2)"
   ]
  },
  {
   "cell_type": "markdown",
   "id": "14725abd",
   "metadata": {},
   "source": [
    "#### Metropolitan Area"
   ]
  },
  {
   "cell_type": "code",
   "execution_count": 28,
   "id": "70571a16",
   "metadata": {},
   "outputs": [
    {
     "data": {
      "text/plain": [
       "Rural-Urban Continuum Code\n",
       "Counties in metropolitan areas ge 1 million pop                 0.60\n",
       "Counties in metropolitan areas of 250,000 to 1 million pop      0.21\n",
       "Nonmetropolitan counties adjacent to a metropolitan area        0.07\n",
       "Counties in metropolitan areas of lt 250 thousand pop           0.07\n",
       "Nonmetropolitan counties not adjacent to a metropolitan area    0.04\n",
       "Name: proportion, dtype: float64"
      ]
     },
     "execution_count": 28,
     "metadata": {},
     "output_type": "execute_result"
    }
   ],
   "source": [
    "#calculate proportions of metropolitan groups in the dataset\n",
    "sample_pd['Rural-Urban Continuum Code'].value_counts(normalize = True).round(2)"
   ]
  },
  {
   "cell_type": "code",
   "execution_count": 29,
   "id": "777204ba",
   "metadata": {},
   "outputs": [
    {
     "name": "stdout",
     "output_type": "stream",
     "text": [
      "Average Time from Diagnosis to Treatment by Metropolitan Area\n"
     ]
    },
    {
     "data": {
      "text/html": [
       "<div>\n",
       "<style scoped>\n",
       "    .dataframe tbody tr th:only-of-type {\n",
       "        vertical-align: middle;\n",
       "    }\n",
       "\n",
       "    .dataframe tbody tr th {\n",
       "        vertical-align: top;\n",
       "    }\n",
       "\n",
       "    .dataframe thead th {\n",
       "        text-align: right;\n",
       "    }\n",
       "</style>\n",
       "<table border=\"1\" class=\"dataframe\">\n",
       "  <thead>\n",
       "    <tr style=\"text-align: right;\">\n",
       "      <th></th>\n",
       "      <th>count</th>\n",
       "      <th>mean</th>\n",
       "      <th>std</th>\n",
       "      <th>min</th>\n",
       "      <th>25%</th>\n",
       "      <th>50%</th>\n",
       "      <th>75%</th>\n",
       "      <th>max</th>\n",
       "    </tr>\n",
       "    <tr>\n",
       "      <th>Rural-Urban Continuum Code</th>\n",
       "      <th></th>\n",
       "      <th></th>\n",
       "      <th></th>\n",
       "      <th></th>\n",
       "      <th></th>\n",
       "      <th></th>\n",
       "      <th></th>\n",
       "      <th></th>\n",
       "    </tr>\n",
       "  </thead>\n",
       "  <tbody>\n",
       "    <tr>\n",
       "      <th>Counties in metropolitan areas ge 1 million pop</th>\n",
       "      <td>20744.0</td>\n",
       "      <td>40.26</td>\n",
       "      <td>50.97</td>\n",
       "      <td>0.0</td>\n",
       "      <td>2.0</td>\n",
       "      <td>29.0</td>\n",
       "      <td>55.00</td>\n",
       "      <td>718.0</td>\n",
       "    </tr>\n",
       "    <tr>\n",
       "      <th>Counties in metropolitan areas of 250,000 to 1 million pop</th>\n",
       "      <td>7116.0</td>\n",
       "      <td>38.33</td>\n",
       "      <td>48.71</td>\n",
       "      <td>0.0</td>\n",
       "      <td>0.0</td>\n",
       "      <td>28.0</td>\n",
       "      <td>53.00</td>\n",
       "      <td>636.0</td>\n",
       "    </tr>\n",
       "    <tr>\n",
       "      <th>Counties in metropolitan areas of lt 250 thousand pop</th>\n",
       "      <td>2444.0</td>\n",
       "      <td>37.97</td>\n",
       "      <td>51.42</td>\n",
       "      <td>0.0</td>\n",
       "      <td>1.0</td>\n",
       "      <td>27.0</td>\n",
       "      <td>52.25</td>\n",
       "      <td>730.0</td>\n",
       "    </tr>\n",
       "    <tr>\n",
       "      <th>Nonmetropolitan counties adjacent to a metropolitan area</th>\n",
       "      <td>2507.0</td>\n",
       "      <td>36.28</td>\n",
       "      <td>45.04</td>\n",
       "      <td>0.0</td>\n",
       "      <td>1.0</td>\n",
       "      <td>27.0</td>\n",
       "      <td>51.00</td>\n",
       "      <td>715.0</td>\n",
       "    </tr>\n",
       "    <tr>\n",
       "      <th>Nonmetropolitan counties not adjacent to a metropolitan area</th>\n",
       "      <td>1500.0</td>\n",
       "      <td>36.80</td>\n",
       "      <td>46.68</td>\n",
       "      <td>0.0</td>\n",
       "      <td>0.0</td>\n",
       "      <td>26.0</td>\n",
       "      <td>50.00</td>\n",
       "      <td>525.0</td>\n",
       "    </tr>\n",
       "  </tbody>\n",
       "</table>\n",
       "</div>"
      ],
      "text/plain": [
       "                                                      count   mean    std  \\\n",
       "Rural-Urban Continuum Code                                                  \n",
       "Counties in metropolitan areas ge 1 million pop     20744.0  40.26  50.97   \n",
       "Counties in metropolitan areas of 250,000 to 1 ...   7116.0  38.33  48.71   \n",
       "Counties in metropolitan areas of lt 250 thousa...   2444.0  37.97  51.42   \n",
       "Nonmetropolitan counties adjacent to a metropol...   2507.0  36.28  45.04   \n",
       "Nonmetropolitan counties not adjacent to a metr...   1500.0  36.80  46.68   \n",
       "\n",
       "                                                    min  25%   50%    75%  \\\n",
       "Rural-Urban Continuum Code                                                  \n",
       "Counties in metropolitan areas ge 1 million pop     0.0  2.0  29.0  55.00   \n",
       "Counties in metropolitan areas of 250,000 to 1 ...  0.0  0.0  28.0  53.00   \n",
       "Counties in metropolitan areas of lt 250 thousa...  0.0  1.0  27.0  52.25   \n",
       "Nonmetropolitan counties adjacent to a metropol...  0.0  1.0  27.0  51.00   \n",
       "Nonmetropolitan counties not adjacent to a metr...  0.0  0.0  26.0  50.00   \n",
       "\n",
       "                                                      max  \n",
       "Rural-Urban Continuum Code                                 \n",
       "Counties in metropolitan areas ge 1 million pop     718.0  \n",
       "Counties in metropolitan areas of 250,000 to 1 ...  636.0  \n",
       "Counties in metropolitan areas of lt 250 thousa...  730.0  \n",
       "Nonmetropolitan counties adjacent to a metropol...  715.0  \n",
       "Nonmetropolitan counties not adjacent to a metr...  525.0  "
      ]
     },
     "execution_count": 29,
     "metadata": {},
     "output_type": "execute_result"
    }
   ],
   "source": [
    "#summarize central tendency stats and quartiles for time to treatment for each metropolitan area\n",
    "print('Average Time from Diagnosis to Treatment by Metropolitan Area')\n",
    "sample_pd.groupby('Rural-Urban Continuum Code')['Time from diagnosis to treatment in days recode'].describe().round(2)"
   ]
  },
  {
   "cell_type": "code",
   "execution_count": 30,
   "id": "de31eb0a",
   "metadata": {},
   "outputs": [
    {
     "name": "stdout",
     "output_type": "stream",
     "text": [
      "Metropolitan Areas: \n",
      "count    30304.000000\n",
      "mean        39.623383\n",
      "std         50.490727\n",
      "min          0.000000\n",
      "25%          2.000000\n",
      "50%         28.000000\n",
      "75%         54.000000\n",
      "max        730.000000\n",
      "Name: Time from diagnosis to treatment in days recode, dtype: float64\n",
      "\n",
      "Non-Metropolitan Areas: \n",
      "count    4007.000000\n",
      "mean       36.472922\n",
      "std        45.657232\n",
      "min         0.000000\n",
      "25%         1.000000\n",
      "50%        27.000000\n",
      "75%        51.000000\n",
      "max       715.000000\n",
      "Name: Time from diagnosis to treatment in days recode, dtype: float64\n"
     ]
    }
   ],
   "source": [
    "#calculate central tendency / dispersion of metropolitan and non-metropolitan time to diagnosis\n",
    "\n",
    "metro = sample_pd[(sample_pd['Rural-Urban Continuum Code'] == 'Counties in metropolitan areas ge 1 million pop') | \n",
    "                   (sample_pd['Rural-Urban Continuum Code'] == 'Counties in metropolitan areas of 250,000 to 1 million pop') |\n",
    "                   (sample_pd['Rural-Urban Continuum Code'] == 'Counties in metropolitan areas of lt 250 thousand pop')\n",
    "                   ]['Time from diagnosis to treatment in days recode'].describe()\n",
    "\n",
    "non_metro = sample_pd[(sample_pd['Rural-Urban Continuum Code'] == 'Nonmetropolitan counties adjacent to a metropolitan area') | \n",
    "                   (sample_pd['Rural-Urban Continuum Code'] == 'Nonmetropolitan counties not adjacent to a metropolitan area')\n",
    "                   ]['Time from diagnosis to treatment in days recode'].describe()\n",
    "\n",
    "print(f'Metropolitan Areas: \\n{metro}\\n\\nNon-Metropolitan Areas: \\n{non_metro}')"
   ]
  },
  {
   "cell_type": "code",
   "execution_count": 31,
   "id": "d1f8b517",
   "metadata": {},
   "outputs": [
    {
     "name": "stdout",
     "output_type": "stream",
     "text": [
      "T-Statistic: 4.052529864010204\n",
      "P-Value: 5.138009363660408e-05\n",
      "ConfidenceInterval(low=1.6264307047260433, high=4.6744906271090265)\n"
     ]
    }
   ],
   "source": [
    "#run t-test comparing metropolitan and non-metropolitan groups\n",
    "met_group1 = sample_pd[(sample_pd['Rural-Urban Continuum Code'] == 'Counties in metropolitan areas ge 1 million pop') | \n",
    "                   (sample_pd['Rural-Urban Continuum Code'] == 'Counties in metropolitan areas of 250,000 to 1 million pop') |\n",
    "                   (sample_pd['Rural-Urban Continuum Code'] == 'Counties in metropolitan areas of lt 250 thousand pop')\n",
    "                   ]['Time from diagnosis to treatment in days recode']\n",
    "met_group2 = sample_pd[(sample_pd['Rural-Urban Continuum Code'] == 'Nonmetropolitan counties adjacent to a metropolitan area') | \n",
    "                   (sample_pd['Rural-Urban Continuum Code'] == 'Nonmetropolitan counties not adjacent to a metropolitan area')\n",
    "                   ]['Time from diagnosis to treatment in days recode']\n",
    "\n",
    "t_stat, p_val = stats.ttest_ind(met_group1, met_group2, equal_var=False)\n",
    "\n",
    "print(f'T-Statistic: {t_stat}')\n",
    "print(f'P-Value: {p_val}')\n",
    "print(stats.ttest_ind(met_group1, met_group2, equal_var=False).confidence_interval())"
   ]
  },
  {
   "cell_type": "markdown",
   "id": "66eeae4f",
   "metadata": {},
   "source": [
    "#### Diagnosis Year"
   ]
  },
  {
   "cell_type": "code",
   "execution_count": 32,
   "id": "0b411469",
   "metadata": {},
   "outputs": [
    {
     "data": {
      "text/plain": [
       "Year of diagnosis\n",
       "2021    0.208388\n",
       "2019    0.205590\n",
       "2022    0.204453\n",
       "2018    0.197488\n",
       "2020    0.184081\n",
       "Name: proportion, dtype: float64"
      ]
     },
     "execution_count": 32,
     "metadata": {},
     "output_type": "execute_result"
    }
   ],
   "source": [
    "#calculate proportions of year groups in the dataset\n",
    "sample_pd['Year of diagnosis'].value_counts(normalize = True)"
   ]
  },
  {
   "cell_type": "code",
   "execution_count": 33,
   "id": "d23bb3bd",
   "metadata": {},
   "outputs": [
    {
     "name": "stdout",
     "output_type": "stream",
     "text": [
      "Average Time from Diagnosis to Treatment by Metropolitan Area\n"
     ]
    },
    {
     "data": {
      "text/html": [
       "<div>\n",
       "<style scoped>\n",
       "    .dataframe tbody tr th:only-of-type {\n",
       "        vertical-align: middle;\n",
       "    }\n",
       "\n",
       "    .dataframe tbody tr th {\n",
       "        vertical-align: top;\n",
       "    }\n",
       "\n",
       "    .dataframe thead th {\n",
       "        text-align: right;\n",
       "    }\n",
       "</style>\n",
       "<table border=\"1\" class=\"dataframe\">\n",
       "  <thead>\n",
       "    <tr style=\"text-align: right;\">\n",
       "      <th></th>\n",
       "      <th>count</th>\n",
       "      <th>mean</th>\n",
       "      <th>std</th>\n",
       "      <th>min</th>\n",
       "      <th>25%</th>\n",
       "      <th>50%</th>\n",
       "      <th>75%</th>\n",
       "      <th>max</th>\n",
       "    </tr>\n",
       "    <tr>\n",
       "      <th>Year of diagnosis</th>\n",
       "      <th></th>\n",
       "      <th></th>\n",
       "      <th></th>\n",
       "      <th></th>\n",
       "      <th></th>\n",
       "      <th></th>\n",
       "      <th></th>\n",
       "      <th></th>\n",
       "    </tr>\n",
       "  </thead>\n",
       "  <tbody>\n",
       "    <tr>\n",
       "      <th>2018</th>\n",
       "      <td>6776.0</td>\n",
       "      <td>37.645956</td>\n",
       "      <td>51.468174</td>\n",
       "      <td>0.0</td>\n",
       "      <td>0.0</td>\n",
       "      <td>26.0</td>\n",
       "      <td>50.0</td>\n",
       "      <td>715.0</td>\n",
       "    </tr>\n",
       "    <tr>\n",
       "      <th>2019</th>\n",
       "      <td>7054.0</td>\n",
       "      <td>37.393819</td>\n",
       "      <td>50.803090</td>\n",
       "      <td>0.0</td>\n",
       "      <td>0.0</td>\n",
       "      <td>26.0</td>\n",
       "      <td>51.0</td>\n",
       "      <td>730.0</td>\n",
       "    </tr>\n",
       "    <tr>\n",
       "      <th>2020</th>\n",
       "      <td>6316.0</td>\n",
       "      <td>35.782457</td>\n",
       "      <td>46.042469</td>\n",
       "      <td>0.0</td>\n",
       "      <td>1.0</td>\n",
       "      <td>25.0</td>\n",
       "      <td>49.0</td>\n",
       "      <td>636.0</td>\n",
       "    </tr>\n",
       "    <tr>\n",
       "      <th>2021</th>\n",
       "      <td>7150.0</td>\n",
       "      <td>41.522937</td>\n",
       "      <td>50.980060</td>\n",
       "      <td>0.0</td>\n",
       "      <td>3.0</td>\n",
       "      <td>31.0</td>\n",
       "      <td>56.0</td>\n",
       "      <td>718.0</td>\n",
       "    </tr>\n",
       "    <tr>\n",
       "      <th>2022</th>\n",
       "      <td>7015.0</td>\n",
       "      <td>43.497933</td>\n",
       "      <td>49.576351</td>\n",
       "      <td>0.0</td>\n",
       "      <td>5.0</td>\n",
       "      <td>33.0</td>\n",
       "      <td>61.0</td>\n",
       "      <td>526.0</td>\n",
       "    </tr>\n",
       "  </tbody>\n",
       "</table>\n",
       "</div>"
      ],
      "text/plain": [
       "                    count       mean        std  min  25%   50%   75%    max\n",
       "Year of diagnosis                                                           \n",
       "2018               6776.0  37.645956  51.468174  0.0  0.0  26.0  50.0  715.0\n",
       "2019               7054.0  37.393819  50.803090  0.0  0.0  26.0  51.0  730.0\n",
       "2020               6316.0  35.782457  46.042469  0.0  1.0  25.0  49.0  636.0\n",
       "2021               7150.0  41.522937  50.980060  0.0  3.0  31.0  56.0  718.0\n",
       "2022               7015.0  43.497933  49.576351  0.0  5.0  33.0  61.0  526.0"
      ]
     },
     "execution_count": 33,
     "metadata": {},
     "output_type": "execute_result"
    }
   ],
   "source": [
    "#summarize central tendency stats and quartiles for time to treatment for each year\n",
    "print('Average Time from Diagnosis to Treatment by Metropolitan Area')\n",
    "sample_pd.groupby('Year of diagnosis')['Time from diagnosis to treatment in days recode'].describe()"
   ]
  },
  {
   "cell_type": "code",
   "execution_count": 34,
   "id": "cf25bbe9",
   "metadata": {},
   "outputs": [
    {
     "data": {
      "text/html": [
       "<div>\n",
       "<style scoped>\n",
       "    .dataframe tbody tr th:only-of-type {\n",
       "        vertical-align: middle;\n",
       "    }\n",
       "\n",
       "    .dataframe tbody tr th {\n",
       "        vertical-align: top;\n",
       "    }\n",
       "\n",
       "    .dataframe thead th {\n",
       "        text-align: right;\n",
       "    }\n",
       "</style>\n",
       "<table border=\"1\" class=\"dataframe\">\n",
       "  <thead>\n",
       "    <tr style=\"text-align: right;\">\n",
       "      <th></th>\n",
       "      <th>count</th>\n",
       "      <th>mean</th>\n",
       "      <th>std</th>\n",
       "      <th>min</th>\n",
       "      <th>25%</th>\n",
       "      <th>50%</th>\n",
       "      <th>75%</th>\n",
       "      <th>max</th>\n",
       "    </tr>\n",
       "    <tr>\n",
       "      <th>Year Group</th>\n",
       "      <th></th>\n",
       "      <th></th>\n",
       "      <th></th>\n",
       "      <th></th>\n",
       "      <th></th>\n",
       "      <th></th>\n",
       "      <th></th>\n",
       "      <th></th>\n",
       "    </tr>\n",
       "  </thead>\n",
       "  <tbody>\n",
       "    <tr>\n",
       "      <th>2018/2019</th>\n",
       "      <td>13830.0</td>\n",
       "      <td>37.52</td>\n",
       "      <td>51.13</td>\n",
       "      <td>0.0</td>\n",
       "      <td>0.0</td>\n",
       "      <td>26.0</td>\n",
       "      <td>51.0</td>\n",
       "      <td>730.0</td>\n",
       "    </tr>\n",
       "    <tr>\n",
       "      <th>2020/2021</th>\n",
       "      <td>13466.0</td>\n",
       "      <td>38.83</td>\n",
       "      <td>48.81</td>\n",
       "      <td>0.0</td>\n",
       "      <td>2.0</td>\n",
       "      <td>28.0</td>\n",
       "      <td>53.0</td>\n",
       "      <td>718.0</td>\n",
       "    </tr>\n",
       "    <tr>\n",
       "      <th>2022</th>\n",
       "      <td>7015.0</td>\n",
       "      <td>43.50</td>\n",
       "      <td>49.58</td>\n",
       "      <td>0.0</td>\n",
       "      <td>5.0</td>\n",
       "      <td>33.0</td>\n",
       "      <td>61.0</td>\n",
       "      <td>526.0</td>\n",
       "    </tr>\n",
       "  </tbody>\n",
       "</table>\n",
       "</div>"
      ],
      "text/plain": [
       "              count   mean    std  min  25%   50%   75%    max\n",
       "Year Group                                                    \n",
       "2018/2019   13830.0  37.52  51.13  0.0  0.0  26.0  51.0  730.0\n",
       "2020/2021   13466.0  38.83  48.81  0.0  2.0  28.0  53.0  718.0\n",
       "2022         7015.0  43.50  49.58  0.0  5.0  33.0  61.0  526.0"
      ]
     },
     "execution_count": 34,
     "metadata": {},
     "output_type": "execute_result"
    }
   ],
   "source": [
    "#summarize central tendency stats and quartiles for time to treatment for each peri-COVID timeframe\n",
    "sample_pd.groupby('Year Group')['Time from diagnosis to treatment in days recode'].describe().round(2)"
   ]
  },
  {
   "cell_type": "code",
   "execution_count": 35,
   "id": "c8c2d5ee",
   "metadata": {},
   "outputs": [
    {
     "data": {
      "text/plain": [
       "Year Group\n",
       "2018/2019    0.40\n",
       "2020/2021    0.39\n",
       "2022         0.20\n",
       "Name: proportion, dtype: float64"
      ]
     },
     "execution_count": 35,
     "metadata": {},
     "output_type": "execute_result"
    }
   ],
   "source": [
    "#calculate proportions for peri-COVID timeframes in dataset\n",
    "sample_pd['Year Group'].value_counts(normalize = True).round(2)"
   ]
  },
  {
   "cell_type": "code",
   "execution_count": 36,
   "id": "6b411143",
   "metadata": {},
   "outputs": [
    {
     "name": "stdout",
     "output_type": "stream",
     "text": [
      "Pre-COVID: \n",
      "count    13830.000000\n",
      "mean        37.517354\n",
      "std         51.128334\n",
      "min          0.000000\n",
      "25%          0.000000\n",
      "50%         26.000000\n",
      "75%         51.000000\n",
      "max        730.000000\n",
      "Name: Time from diagnosis to treatment in days recode, dtype: float64\n",
      "\n",
      "COVID: \n",
      "count    13466.000000\n",
      "mean        38.830462\n",
      "std         48.808870\n",
      "min          0.000000\n",
      "25%          2.000000\n",
      "50%         28.000000\n",
      "75%         53.000000\n",
      "max        718.000000\n",
      "Name: Time from diagnosis to treatment in days recode, dtype: float64\n",
      "\n",
      "Post-COVID: \n",
      "count    7015.000000\n",
      "mean       43.497933\n",
      "std        49.576351\n",
      "min         0.000000\n",
      "25%         5.000000\n",
      "50%        33.000000\n",
      "75%        61.000000\n",
      "max       526.000000\n",
      "Name: Time from diagnosis to treatment in days recode, dtype: float64\n"
     ]
    }
   ],
   "source": [
    "#calculate central tendency / dispersion of pre-COVID vs. COVID time to diagnosis\n",
    "\n",
    "pre_covid = sample_pd[(sample_pd['Year Group'] == '2018/2019')]['Time from diagnosis to treatment in days recode'].describe()\n",
    "\n",
    "covid = sample_pd[(sample_pd['Year Group'] == '2020/2021')]['Time from diagnosis to treatment in days recode'].describe()\n",
    "\n",
    "post_covid = sample_pd[(sample_pd['Year Group'] == '2022')]['Time from diagnosis to treatment in days recode'].describe()\n",
    "\n",
    "print(f'Pre-COVID: \\n{pre_covid}\\n\\nCOVID: \\n{covid}\\n\\nPost-COVID: \\n{post_covid}')"
   ]
  },
  {
   "cell_type": "code",
   "execution_count": 37,
   "id": "a1abc072",
   "metadata": {},
   "outputs": [
    {
     "name": "stdout",
     "output_type": "stream",
     "text": [
      "F-statistic: 34.21532053716838\n",
      "P-value: 1.4297983819472757e-15\n"
     ]
    }
   ],
   "source": [
    "#run ANOVA comparing pre-COVID vs. COVID vs. post-COVID\n",
    "group0 = sample_pd[sample_pd['Year Group'] == '2018/2019']['Time from diagnosis to treatment in days recode']\n",
    "group1 = sample_pd[sample_pd['Year Group'] == '2020/2021']['Time from diagnosis to treatment in days recode']\n",
    "group2 = sample_pd[sample_pd['Year Group'] == '2022']['Time from diagnosis to treatment in days recode']\n",
    "\n",
    "f_stat, p_val = stats.f_oneway(group0,\n",
    "                               group1, \n",
    "                               group2, \n",
    "                               )\n",
    "print(f'F-statistic: {f_stat}')\n",
    "print(f'P-value: {p_val}')"
   ]
  },
  {
   "cell_type": "code",
   "execution_count": 38,
   "id": "1bab1246",
   "metadata": {},
   "outputs": [
    {
     "name": "stdout",
     "output_type": "stream",
     "text": [
      "Tukey's HSD Pairwise Group Comparisons (95.0% Confidence Interval)\n",
      "Comparison  Statistic  p-value  Lower CI  Upper CI\n",
      " (0 - 1)     -1.313     0.076    -2.729     0.103\n",
      " (0 - 2)     -5.981     0.000    -7.695    -4.266\n",
      " (1 - 0)      1.313     0.076    -0.103     2.729\n",
      " (1 - 2)     -4.667     0.000    -6.390    -2.945\n",
      " (2 - 0)      5.981     0.000     4.266     7.695\n",
      " (2 - 1)      4.667     0.000     2.945     6.390\n",
      "\n"
     ]
    }
   ],
   "source": [
    "#perform tukey hsd post-hoc analysis for pairwise comparisons\n",
    "from scipy.stats import tukey_hsd\n",
    "\n",
    "year_tukeyhsd = tukey_hsd(group0,\n",
    "                         group1, \n",
    "                         group2,\n",
    "                         )\n",
    "\n",
    "print(year_tukeyhsd)"
   ]
  },
  {
   "cell_type": "code",
   "execution_count": 39,
   "id": "71df2816",
   "metadata": {},
   "outputs": [
    {
     "name": "stdout",
     "output_type": "stream",
     "text": [
      "Year Group Contingency Table:\n",
      "Treatment Delay     0     1\n",
      "Year Group                 \n",
      "2018/2019        7125  6705\n",
      "2020/2021        6588  6878\n",
      "2022             3027  3988\n"
     ]
    }
   ],
   "source": [
    "#run chi2 test on categrocial 'Treatment Delay' column\n",
    "from scipy.stats import chi2_contingency\n",
    "\n",
    "#run chi2 of categorical 'Treatment Delay' column\n",
    "\n",
    "#contingency table\n",
    "year_ct = pd.crosstab(sample_pd['Year Group'], sample_pd['Treatment Delay'])\n",
    "print('Year Group Contingency Table:')\n",
    "print(year_ct)"
   ]
  },
  {
   "cell_type": "code",
   "execution_count": 40,
   "id": "86f89ffe",
   "metadata": {},
   "outputs": [
    {
     "name": "stdout",
     "output_type": "stream",
     "text": [
      "Pre-COVID Treatment Delay Frequency: 0.48335974643423135\n",
      "COVID Treatment Delay Frequency: 0.5015946651203247\n",
      "Post-COVID Treatment Delay Frequency: 0.5563508771929825\n"
     ]
    }
   ],
   "source": [
    "pre_covid_delay_freq = 6710 / (6710 + 7172)\n",
    "covid_delay_freq = 6920 / (6920 + 6876)\n",
    "post_covid_dela_freq = 3964 / (3964 + 3161)\n",
    "\n",
    "print(f'Pre-COVID Treatment Delay Frequency: {pre_covid_delay_freq}')\n",
    "print(f'COVID Treatment Delay Frequency: {covid_delay_freq}')\n",
    "print(f'Post-COVID Treatment Delay Frequency: {post_covid_dela_freq}')"
   ]
  },
  {
   "cell_type": "code",
   "execution_count": 41,
   "id": "2d7bec92",
   "metadata": {},
   "outputs": [
    {
     "name": "stdout",
     "output_type": "stream",
     "text": [
      "\n",
      "Chi-square statistic: 130.5998\n",
      "P-value: 0.0000\n",
      "Degrees of freedom: 2\n",
      "Expected frequencies:\n",
      "[[6747.52120311 7082.47879689]\n",
      " [6569.92917723 6896.07082277]\n",
      " [3422.54961966 3592.45038034]]\n"
     ]
    }
   ],
   "source": [
    "chi2_stat, p_value, dof, expected_freq = chi2_contingency(year_ct)\n",
    "\n",
    "print(f\"\\nChi-square statistic: {chi2_stat:.4f}\")\n",
    "print(f\"P-value: {p_value:.4f}\")\n",
    "print(f\"Degrees of freedom: {dof}\")\n",
    "print(\"Expected frequencies:\")\n",
    "print(expected_freq)"
   ]
  },
  {
   "cell_type": "code",
   "execution_count": 42,
   "id": "ab8704f2",
   "metadata": {},
   "outputs": [
    {
     "name": "stdout",
     "output_type": "stream",
     "text": [
      "\n",
      "Post-hoc pairwise chi2 tests with Bonferroni correction:\n",
      "2018/2019 vs 2020/2021: raw p = 0.0000, corrected p = 0.0001, reject null = True\n",
      "2018/2019 vs 2022: raw p = 0.0000, corrected p = 0.0000, reject null = True\n",
      "2020/2021 vs 2022: raw p = 0.0000, corrected p = 0.0000, reject null = True\n"
     ]
    }
   ],
   "source": [
    "#post-hoc analysis\n",
    "from itertools import combinations\n",
    "from scipy.stats import chi2_contingency\n",
    "from statsmodels.stats.multitest import multipletests\n",
    "\n",
    "#contingency table\n",
    "year_ct = pd.crosstab(sample_pd['Year Group'], sample_pd['Treatment Delay'])\n",
    "\n",
    "# Store pairwise p-values and labels\n",
    "pairwise_pvals = []\n",
    "pair_labels = []\n",
    "\n",
    "# Get unique Year Groups\n",
    "year_groups = year_ct.index.tolist()\n",
    "\n",
    "# Loop through all unique pairs\n",
    "for g1, g2 in combinations(year_groups, 2):\n",
    "    sub_table = year_ct.loc[[g1, g2]]  # Subset of 2 rows\n",
    "    chi2, p, _, _ = chi2_contingency(sub_table)\n",
    "    pairwise_pvals.append(p)\n",
    "    pair_labels.append(f\"{g1} vs {g2}\")\n",
    "\n",
    "# Bonferroni correction for multiple tests\n",
    "reject, pvals_corrected, _, _ = multipletests(pairwise_pvals, method='bonferroni')\n",
    "\n",
    "# Display results\n",
    "print(\"\\nPost-hoc pairwise chi2 tests with Bonferroni correction:\")\n",
    "for label, raw_p, corr_p, rej in zip(pair_labels, pairwise_pvals, pvals_corrected, reject):\n",
    "    print(f\"{label}: raw p = {raw_p:.4f}, corrected p = {corr_p:.4f}, reject null = {rej}\")\n"
   ]
  },
  {
   "cell_type": "code",
   "execution_count": 43,
   "id": "8a34cddd",
   "metadata": {},
   "outputs": [
    {
     "name": "stdout",
     "output_type": "stream",
     "text": [
      "T-Statistic: nan\n",
      "P-Value: nan\n"
     ]
    },
    {
     "name": "stderr",
     "output_type": "stream",
     "text": [
      "/opt/anaconda3/envs/bmi6318/lib/python3.10/site-packages/scipy/_lib/deprecation.py:234: SmallSampleWarning: One or more sample arguments is too small; all returned values will be NaN. See documentation for sample size requirements.\n",
      "  return f(*args, **kwargs)\n"
     ]
    }
   ],
   "source": [
    "#run t-test comparing pre-COVID vs. COVID diagnosis years\n",
    "group1 = sample_pd[(sample_pd['Year of diagnosis'] == '2018') | \n",
    "                   (sample_pd['Year of diagnosis'] == '2019')\n",
    "                   ]['Time from diagnosis to treatment in days recode']\n",
    "group2 = sample_pd[(sample_pd['Year of diagnosis'] == '2020') | \n",
    "                   (sample_pd['Year of diagnosis'] == '2021') |\n",
    "                   (sample_pd['Year of diagnosis'] == '2022')\n",
    "                   ]['Time from diagnosis to treatment in days recode']\n",
    "\n",
    "t_stat, p_val = stats.ttest_ind(group1, group2, equal_var=False)\n",
    "\n",
    "print(f'T-Statistic: {t_stat}')\n",
    "print(f'P-Value: {p_val}')"
   ]
  },
  {
   "cell_type": "markdown",
   "id": "c95c1cf7",
   "metadata": {},
   "source": [
    "### Logistic Regression - Colorectal Cancer"
   ]
  },
  {
   "cell_type": "code",
   "execution_count": 44,
   "id": "c704838a",
   "metadata": {},
   "outputs": [],
   "source": [
    "#create dataframe of only colorectal primary sites\n",
    "colorectal_df = sample_pd[\n",
    "    (sample_pd['Primary Site - labeled'] == 'C18.0-Cecum') |\n",
    "    (sample_pd['Primary Site - labeled'] == 'C18.1-Appendix') |\n",
    "    (sample_pd['Primary Site - labeled'] == 'C18.2-Ascending colon') |\n",
    "    (sample_pd['Primary Site - labeled'] == 'C18.3-Hepatic flexure of colon') |\n",
    "    (sample_pd['Primary Site - labeled'] == 'C18.4-Transverse colon') |\n",
    "    (sample_pd['Primary Site - labeled'] == 'C18.5-Splenic flexure of colon') |\n",
    "    (sample_pd['Primary Site - labeled'] == 'C18.6-Descending colon') |\n",
    "    (sample_pd['Primary Site - labeled'] == 'C18.7-Sigmoid colon') |\n",
    "    (sample_pd['Primary Site - labeled'] == 'C18.8-Overlapping lesion of colon') |\n",
    "    (sample_pd['Primary Site - labeled'] == 'C18.9-Colon, NOS') |\n",
    "    (sample_pd['Primary Site - labeled'] == 'C19.9-Rectosigmoid junction') |\n",
    "    (sample_pd['Primary Site - labeled'] == 'C20.9-Rectum, NOS')\n",
    "]\n"
   ]
  },
  {
   "cell_type": "code",
   "execution_count": 45,
   "id": "b5ecbf96",
   "metadata": {},
   "outputs": [
    {
     "data": {
      "text/plain": [
       "Primary Site - labeled\n",
       "C18.8-Overlapping lesion of colon     24\n",
       "C18.9-Colon, NOS                      44\n",
       "C18.5-Splenic flexure of colon        61\n",
       "C18.3-Hepatic flexure of colon        84\n",
       "C18.6-Descending colon               120\n",
       "C18.1-Appendix                       145\n",
       "C18.4-Transverse colon               193\n",
       "C19.9-Rectosigmoid junction          204\n",
       "C18.0-Cecum                          435\n",
       "C18.2-Ascending colon                437\n",
       "C18.7-Sigmoid colon                  606\n",
       "C20.9-Rectum, NOS                    781\n",
       "Name: count, dtype: int64"
      ]
     },
     "execution_count": 45,
     "metadata": {},
     "output_type": "execute_result"
    }
   ],
   "source": [
    "#check colorectal cancer filtering\n",
    "colorectal_df['Primary Site - labeled'].value_counts().sort_values()"
   ]
  },
  {
   "cell_type": "code",
   "execution_count": 46,
   "id": "8999613e",
   "metadata": {},
   "outputs": [],
   "source": [
    "#filter for  columns of interest\n",
    "logreg_df = colorectal_df[[\n",
    "    'Sex',\n",
    "    'Age Group',\n",
    "    'Race and origin recode (NHW, NHB, NHAIAN, NHAPI, Hispanic)',\n",
    "    'Income Group',\n",
    "    'Rural-Urban Continuum Code',\n",
    "    'Year Group',\n",
    "    'Time from diagnosis to treatment in days recode'\n",
    "]]"
   ]
  },
  {
   "cell_type": "code",
   "execution_count": 47,
   "id": "7a104fa7",
   "metadata": {},
   "outputs": [
    {
     "name": "stderr",
     "output_type": "stream",
     "text": [
      "/var/folders/db/00b5nl595fldz7p9j42cw4q80000gn/T/ipykernel_48349/3267392979.py:2: SettingWithCopyWarning: \n",
      "A value is trying to be set on a copy of a slice from a DataFrame.\n",
      "Try using .loc[row_indexer,col_indexer] = value instead\n",
      "\n",
      "See the caveats in the documentation: https://pandas.pydata.org/pandas-docs/stable/user_guide/indexing.html#returning-a-view-versus-a-copy\n",
      "  logreg_df['Treatment Delay'] = logreg_df['Time from diagnosis to treatment in days recode'].apply(lambda x: 0 if x < 28 else 1)\n"
     ]
    }
   ],
   "source": [
    "#add binary classification column to dataset; 0 for <28 days and 1 for >=28days for 'time from diagnosis to treatment in days recode' column\n",
    "logreg_df['Treatment Delay'] = logreg_df['Time from diagnosis to treatment in days recode'].apply(lambda x: 0 if x < 28 else 1)"
   ]
  },
  {
   "cell_type": "code",
   "execution_count": 48,
   "id": "8f0c37df",
   "metadata": {},
   "outputs": [],
   "source": [
    "#drop age group 00-19 years since all patients in this group had a time to treatment of 0 days, resulting in skewed logistic regression results\n",
    "logreg_df = logreg_df[logreg_df['Age Group'] != \"00-19 years\"]"
   ]
  },
  {
   "cell_type": "code",
   "execution_count": 49,
   "id": "49158d3c",
   "metadata": {},
   "outputs": [],
   "source": [
    "#encode categorical variables\n",
    "categorical_cols = [\n",
    "    'Sex',\n",
    "    'Age Group',\n",
    "    'Race and origin recode (NHW, NHB, NHAIAN, NHAPI, Hispanic)',\n",
    "    'Income Group',\n",
    "    'Rural-Urban Continuum Code',\n",
    "    'Year Group'\n",
    "]\n",
    "\n",
    "logreg_df_categorical = pd.get_dummies(logreg_df[categorical_cols], drop_first = False).astype(int)\n",
    "\n",
    "logreg_df_numeric = logreg_df[['Treatment Delay']]\n",
    "\n",
    "logreg_df_encoded = pd.concat([logreg_df_categorical, logreg_df_numeric], axis = 1)"
   ]
  },
  {
   "cell_type": "code",
   "execution_count": 50,
   "id": "7f515f3f",
   "metadata": {},
   "outputs": [],
   "source": [
    "#manually drop reference groups\n",
    "logreg_df_final = logreg_df_encoded.drop(columns = [\n",
    "    'Sex_Female',\n",
    "    'Age Group_50-59 years',\n",
    "    'Race and origin recode (NHW, NHB, NHAIAN, NHAPI, Hispanic)_Non-Hispanic White',\n",
    "    'Income Group_$80,000+',\n",
    "    'Rural-Urban Continuum Code_Counties in metropolitan areas ge 1 million pop',\n",
    "    'Year Group_2018/2019'\n",
    "])"
   ]
  },
  {
   "cell_type": "code",
   "execution_count": null,
   "id": "c1f92400",
   "metadata": {},
   "outputs": [
    {
     "name": "stdout",
     "output_type": "stream",
     "text": [
      "Optimization terminated successfully.\n",
      "         Current function value: 0.657923\n",
      "         Iterations 5\n",
      "                           Logit Regression Results                           \n",
      "==============================================================================\n",
      "Dep. Variable:        Treatment Delay   No. Observations:                 3118\n",
      "Model:                          Logit   Df Residuals:                     3097\n",
      "Method:                           MLE   Df Model:                           20\n",
      "Date:                Thu, 07 Aug 2025   Pseudo R-squ.:                0.002427\n",
      "Time:                        16:16:33   Log-Likelihood:                -2051.4\n",
      "converged:                       True   LL-Null:                       -2056.4\n",
      "Covariance Type:            nonrobust   LLR p-value:                    0.9685\n",
      "=========================================================================================================================================================================\n",
      "                                                                                                            coef    std err          z      P>|z|      [0.025      0.975]\n",
      "-------------------------------------------------------------------------------------------------------------------------------------------------------------------------\n",
      "Sex_Male                                                                                                 -0.0954      0.069     -1.372      0.170      -0.232       0.041\n",
      "Age Group_20-29 years                                                                                    -1.4450      0.495     -2.922      0.003      -2.414      -0.476\n",
      "Age Group_30-39 years                                                                                    -0.8388      0.231     -3.628      0.000      -1.292      -0.386\n",
      "Age Group_40-49 years                                                                                    -0.4418      0.135     -3.264      0.001      -0.707      -0.177\n",
      "Age Group_60-69 years                                                                                    -0.1192      0.090     -1.318      0.187      -0.296       0.058\n",
      "Age Group_70-79 years                                                                                    -0.3388      0.094     -3.615      0.000      -0.522      -0.155\n",
      "Age Group_80-89 years                                                                                    -0.6068      0.116     -5.210      0.000      -0.835      -0.379\n",
      "Age Group_90+ years                                                                                      -0.8550      0.267     -3.197      0.001      -1.379      -0.331\n",
      "Race and origin recode (NHW, NHB, NHAIAN, NHAPI, Hispanic)_Hispanic (All Races)                           0.0176      0.104      0.170      0.865      -0.186       0.221\n",
      "Race and origin recode (NHW, NHB, NHAIAN, NHAPI, Hispanic)_Non-Hispanic American Indian/Alaska Native     0.5146      0.528      0.975      0.330      -0.520       1.549\n",
      "Race and origin recode (NHW, NHB, NHAIAN, NHAPI, Hispanic)_Non-Hispanic Asian or Pacific Islander        -0.0891      0.127     -0.704      0.482      -0.337       0.159\n",
      "Race and origin recode (NHW, NHB, NHAIAN, NHAPI, Hispanic)_Non-Hispanic Black                            -0.2742      0.123     -2.222      0.026      -0.516      -0.032\n",
      "Income Group_$40,000 - $54,999                                                                           -0.1691      0.190     -0.889      0.374      -0.542       0.204\n",
      "Income Group_$55,000 - 79,999                                                                            -0.0955      0.102     -0.934      0.350      -0.296       0.105\n",
      "Income Group_< $40,000                                                                                   -0.4588      0.408     -1.124      0.261      -1.259       0.341\n",
      "Rural-Urban Continuum Code_Counties in metropolitan areas of 250,000 to 1 million pop                    -0.1711      0.103     -1.668      0.095      -0.372       0.030\n",
      "Rural-Urban Continuum Code_Counties in metropolitan areas of lt 250 thousand pop                         -0.0508      0.168     -0.302      0.763      -0.381       0.279\n",
      "Rural-Urban Continuum Code_Nonmetropolitan counties adjacent to a metropolitan area                      -0.2955      0.179     -1.655      0.098      -0.645       0.055\n",
      "Rural-Urban Continuum Code_Nonmetropolitan counties not adjacent to a metropolitan area                   0.1895      0.221      0.859      0.391      -0.243       0.622\n",
      "Year Group_2020/2021                                                                                     -0.0045      0.078     -0.058      0.953      -0.157       0.148\n",
      "Year Group_2022                                                                                           0.0400      0.096      0.416      0.677      -0.148       0.229\n",
      "=========================================================================================================================================================================\n"
     ]
    }
   ],
   "source": [
    "import statsmodels.api as sm\n",
    "\n",
    "#run logistic regression\n",
    "X = logreg_df_final.drop(columns = 'Treatment Delay')\n",
    "Y = logreg_df_final['Treatment Delay']\n",
    "\n",
    "log_reg = sm.Logit(Y, X).fit()\n",
    "\n",
    "print(log_reg.summary())"
   ]
  },
  {
   "cell_type": "code",
   "execution_count": 52,
   "id": "41968b0c",
   "metadata": {},
   "outputs": [],
   "source": [
    "#save output as a csv for easy input into report\n",
    "log_reg_csv = log_reg.summary().as_csv()\n",
    "\n",
    "log_reg_filename = 'logistic_regression.csv'\n",
    "\n",
    "with open(log_reg_filename, 'w') as f:\n",
    "    f.write(log_reg_csv)"
   ]
  },
  {
   "cell_type": "markdown",
   "id": "00262831",
   "metadata": {},
   "source": [
    "### Multiple Linear Regression - Colorectal Cancer"
   ]
  },
  {
   "cell_type": "code",
   "execution_count": 53,
   "id": "82edc6cd",
   "metadata": {},
   "outputs": [],
   "source": [
    "#encode categorical variables\n",
    "categorical_cols = [\n",
    "    'Sex',\n",
    "    'Age Group',\n",
    "    'Race and origin recode (NHW, NHB, NHAIAN, NHAPI, Hispanic)',\n",
    "    'Income Group',\n",
    "    'Rural-Urban Continuum Code',\n",
    "    'Year Group'\n",
    "]\n",
    "\n",
    "linreg_df_categorical = pd.get_dummies(sample_pd[categorical_cols], drop_first = False).astype(int)\n",
    "\n",
    "linreg_df_numeric = sample_pd['Time from diagnosis to treatment in days recode']\n",
    "\n",
    "linreg_df_encoded = pd.concat([linreg_df_categorical, linreg_df_numeric], axis = 1)"
   ]
  },
  {
   "cell_type": "code",
   "execution_count": 54,
   "id": "c7c071e2",
   "metadata": {},
   "outputs": [],
   "source": [
    "#manually drop reference groups\n",
    "linreg_df_final = linreg_df_encoded.drop(columns = [\n",
    "    'Sex_Female',\n",
    "    'Age Group_00-19 years',\n",
    "    'Race and origin recode (NHW, NHB, NHAIAN, NHAPI, Hispanic)_Non-Hispanic White',\n",
    "    'Income Group_$80,000+',\n",
    "    'Rural-Urban Continuum Code_Counties in metropolitan areas ge 1 million pop',\n",
    "    'Year Group_2018/2019'\n",
    "])"
   ]
  },
  {
   "cell_type": "code",
   "execution_count": null,
   "id": "ad2311e1",
   "metadata": {},
   "outputs": [
    {
     "name": "stdout",
     "output_type": "stream",
     "text": [
      "                                           OLS Regression Results                                          \n",
      "===========================================================================================================\n",
      "Dep. Variable:     Time from diagnosis to treatment in days recode   R-squared:                       0.027\n",
      "Model:                                                         OLS   Adj. R-squared:                  0.027\n",
      "Method:                                              Least Squares   F-statistic:                     43.88\n",
      "Date:                                             Thu, 07 Aug 2025   Prob (F-statistic):          2.67e-187\n",
      "Time:                                                     16:16:34   Log-Likelihood:            -1.8241e+05\n",
      "No. Observations:                                            34311   AIC:                         3.649e+05\n",
      "Df Residuals:                                                34288   BIC:                         3.651e+05\n",
      "Df Model:                                                       22                                         \n",
      "Covariance Type:                                         nonrobust                                         \n",
      "=========================================================================================================================================================================\n",
      "                                                                                                            coef    std err          t      P>|t|      [0.025      0.975]\n",
      "-------------------------------------------------------------------------------------------------------------------------------------------------------------------------\n",
      "const                                                                                                     3.5259      2.833      1.245      0.213      -2.026       9.078\n",
      "Sex_Male                                                                                                  7.7795      0.539     14.440      0.000       6.724       8.835\n",
      "Age Group_20-29 years                                                                                    12.2962      3.506      3.508      0.000       5.425      19.167\n",
      "Age Group_30-39 years                                                                                    17.1701      3.094      5.550      0.000      11.106      23.234\n",
      "Age Group_40-49 years                                                                                    22.9907      2.920      7.874      0.000      17.268      28.714\n",
      "Age Group_50-59 years                                                                                    29.9285      2.840     10.536      0.000      24.361      35.496\n",
      "Age Group_60-69 years                                                                                    32.9362      2.813     11.707      0.000      27.422      38.450\n",
      "Age Group_70-79 years                                                                                    29.8130      2.821     10.568      0.000      24.284      35.342\n",
      "Age Group_80-89 years                                                                                    23.8077      2.891      8.235      0.000      18.141      29.475\n",
      "Age Group_90+ years                                                                                      23.1624      3.495      6.627      0.000      16.312      30.013\n",
      "Race and origin recode (NHW, NHB, NHAIAN, NHAPI, Hispanic)_Hispanic (All Races)                           7.2986      0.836      8.734      0.000       5.661       8.937\n",
      "Race and origin recode (NHW, NHB, NHAIAN, NHAPI, Hispanic)_Non-Hispanic American Indian/Alaska Native     1.1123      3.742      0.297      0.766      -6.223       8.448\n",
      "Race and origin recode (NHW, NHB, NHAIAN, NHAPI, Hispanic)_Non-Hispanic Asian or Pacific Islander         4.3204      1.000      4.320      0.000       2.360       6.281\n",
      "Race and origin recode (NHW, NHB, NHAIAN, NHAPI, Hispanic)_Non-Hispanic Black                            12.4021      0.904     13.718      0.000      10.630      14.174\n",
      "Income Group_$40,000 - $54,999                                                                            1.2385      1.345      0.921      0.357      -1.398       3.875\n",
      "Income Group_$55,000 - 79,999                                                                             0.9995      0.739      1.353      0.176      -0.449       2.448\n",
      "Income Group_< $40,000                                                                                   -2.8870      3.187     -0.906      0.365      -9.133       3.359\n",
      "Rural-Urban Continuum Code_Counties in metropolitan areas of 250,000 to 1 million pop                    -2.0138      0.717     -2.810      0.005      -3.418      -0.609\n",
      "Rural-Urban Continuum Code_Counties in metropolitan areas of lt 250 thousand pop                         -2.8065      1.188     -2.362      0.018      -5.135      -0.478\n",
      "Rural-Urban Continuum Code_Nonmetropolitan counties adjacent to a metropolitan area                      -3.9830      1.214     -3.281      0.001      -6.362      -1.603\n",
      "Rural-Urban Continuum Code_Nonmetropolitan counties not adjacent to a metropolitan area                  -2.9517      1.544     -1.912      0.056      -5.978       0.075\n",
      "Year Group_2020/2021                                                                                      1.3624      0.597      2.281      0.023       0.192       2.533\n",
      "Year Group_2022                                                                                           5.7923      0.723      8.009      0.000       4.375       7.210\n",
      "==============================================================================\n",
      "Omnibus:                    27103.528   Durbin-Watson:                   1.980\n",
      "Prob(Omnibus):                  0.000   Jarque-Bera (JB):           914503.364\n",
      "Skew:                           3.559   Prob(JB):                         0.00\n",
      "Kurtosis:                      27.270   Cond. No.                         43.2\n",
      "==============================================================================\n",
      "\n",
      "Notes:\n",
      "[1] Standard Errors assume that the covariance matrix of the errors is correctly specified.\n"
     ]
    }
   ],
   "source": [
    "#run linear regression\n",
    "X = linreg_df_final.drop(columns = 'Time from diagnosis to treatment in days recode')\n",
    "Y = linreg_df_final['Time from diagnosis to treatment in days recode']\n",
    "\n",
    "X = sm.add_constant(X)\n",
    "\n",
    "lr_model = sm.OLS(Y, X).fit()\n",
    "\n",
    "print(lr_model.summary())\n"
   ]
  },
  {
   "cell_type": "code",
   "execution_count": 56,
   "id": "dbe1c17e",
   "metadata": {},
   "outputs": [],
   "source": [
    "#save output as a csv for easy input into report\n",
    "lin_reg_csv = lr_model.summary().as_csv()\n",
    "\n",
    "lin_reg_filename = 'linear_regression.csv'\n",
    "\n",
    "with open(lin_reg_filename, 'w') as f:\n",
    "    f.write(lin_reg_csv)"
   ]
  }
 ],
 "metadata": {
  "kernelspec": {
   "display_name": "bmi6318",
   "language": "python",
   "name": "python3"
  },
  "language_info": {
   "codemirror_mode": {
    "name": "ipython",
    "version": 3
   },
   "file_extension": ".py",
   "mimetype": "text/x-python",
   "name": "python",
   "nbconvert_exporter": "python",
   "pygments_lexer": "ipython3",
   "version": "3.10.13"
  }
 },
 "nbformat": 4,
 "nbformat_minor": 5
}
